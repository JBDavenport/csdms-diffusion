{
 "cells": [
  {
   "cell_type": "markdown",
   "id": "89dd19ae-6026-4d05-84bf-e3a6163306a8",
   "metadata": {},
   "source": [
    "# A 1D diffusion model"
   ]
  },
  {
   "cell_type": "markdown",
   "id": "184211b0-598d-492e-9290-89b3b8bb0373",
   "metadata": {},
   "source": [
    "Here we develop a one-dimensional model of diffusion.\n",
    "-It assumes a constant diffusivity.\n",
    "-It uses a regular grid.\n",
    "-It has fixed boundary conditions."
   ]
  },
  {
   "cell_type": "markdown",
   "id": "f42046bd-ef93-4506-9ef4-038c35e0eece",
   "metadata": {},
   "source": [
    "The diffusion equation:\n",
    "$$ \\frac{\\partial C}{\\partial t} = D\\frac{\\partial^2 C}{\\partial x^2} $$\n",
    "The discretized version of the diffusion equation that we'll solve with our model:\n",
    "$$ C^{t+1}_x = C^t_x + {D \\Delta t \\over \\Delta x^2} (C^t_{x+1} - 2C^t_x + C^t_{x-1}) $$\n",
    "This is the explicit FTCS scheme as described in Slingerland and Kump (2011). (Or see Wikipedia.)"
   ]
  },
  {
   "cell_type": "markdown",
   "id": "0fbd0a19-ed3d-43d9-9937-2c529492e1c2",
   "metadata": {},
   "source": [
    "We will use two libraries, Numpy (for arrays) and Matplotlib (for plotting) that are not a part of the base Python distribution."
   ]
  },
  {
   "cell_type": "code",
   "execution_count": null,
   "id": "5a41abb1-4fcd-4e24-882b-3971103cfc34",
   "metadata": {},
   "outputs": [],
   "source": [
    "import numpy as np #np is the generic nickname for numpy\n",
    "import matplotlib.pyplot as plt #plt is the generic nickname for matplotlib, \"plot\""
   ]
  },
  {
   "cell_type": "markdown",
   "id": "a08efbd0-8fc8-42c9-80d8-30461af4372d",
   "metadata": {},
   "source": [
    "Set two fixed model parameters, the diffusivity and the size of the model domain."
   ]
  },
  {
   "cell_type": "code",
   "execution_count": null,
   "id": "b873b9c2-4466-47ef-875b-31d5d8fa0648",
   "metadata": {},
   "outputs": [],
   "source": [
    "D = 100\n",
    "Lx = 300 #Lx = Domain size, D = Diffusivity concept"
   ]
  },
  {
   "cell_type": "markdown",
   "id": "d36a5686-883d-46d7-9231-cfa29bb62792",
   "metadata": {},
   "source": [
    "Next, set up the model grid using a NumPy array"
   ]
  },
  {
   "cell_type": "code",
   "execution_count": null,
   "id": "ff7dab70-b6e8-4238-bd31-c24178a47ec9",
   "metadata": {},
   "outputs": [],
   "source": [
    "dx = 0.5\n",
    "x = np.arange(start=0, stop=Lx, step=dx)\n",
    "nx = len(x)\n",
    "# dx = distance between x cells or \"grid spacing\", arange = array range, nx = len, or length, of amount of elements.\n",
    "# In this case, 600."
   ]
  },
  {
   "cell_type": "code",
   "execution_count": null,
   "id": "09026e21-184e-4ff2-b7fe-7919c012072c",
   "metadata": {},
   "outputs": [],
   "source": [
    "whos"
   ]
  },
  {
   "cell_type": "code",
   "execution_count": null,
   "id": "ae7375d6-00fe-4974-91cf-1949ad6743d1",
   "metadata": {},
   "outputs": [],
   "source": [
    "x[0]"
   ]
  },
  {
   "cell_type": "code",
   "execution_count": null,
   "id": "30d5a8c9-18fe-4e8e-8ab5-64307eed7d99",
   "metadata": {},
   "outputs": [],
   "source": [
    "x[5]"
   ]
  },
  {
   "cell_type": "code",
   "execution_count": null,
   "id": "fa5cc9b2-4374-41ba-b714-206b49686cd4",
   "metadata": {},
   "outputs": [],
   "source": [
    "x[-1]"
   ]
  },
  {
   "cell_type": "code",
   "execution_count": null,
   "id": "0979ff73-ff1d-4b87-868e-f5d4836a36c9",
   "metadata": {},
   "outputs": [],
   "source": [
    "x[0:5]"
   ]
  },
  {
   "cell_type": "markdown",
   "id": "36f8b6f9-9e85-4c78-af9f-fc613b31eaad",
   "metadata": {},
   "source": [
    "Set the initial concentration profile for the model.\n",
    "The concentration `C` is a step function\n",
    "wiht a high value on the left,\n",
    " a low value on the right,\n",
    " and the step at the center of the domain."
   ]
  },
  {
   "cell_type": "code",
   "execution_count": null,
   "id": "b5476c3b-0c85-44cd-93ed-d347196c43e6",
   "metadata": {},
   "outputs": [],
   "source": [
    "C = np.zeros_like(x) #define new variable called 'C'. NumPy library, function zeros_like. Makes C 600 element array of floats with 0's\n",
    "C_left = 500 #left side C start at 500\n",
    "C_right = 0 #Right side C start at 0\n",
    "C[x<= Lx//2] = C_left #values of x less than or equal to the domain size divided by 2 is equal to C_left (500)\n",
    "C[x > Lx//2] = C_right #values of x greater than the domain size divided by 2 is equal to C_right (0)"
   ]
  },
  {
   "cell_type": "markdown",
   "id": "40926c45-3f1f-4079-8cf9-0dcf23377467",
   "metadata": {},
   "source": [
    "Plot the initial profile."
   ]
  },
  {
   "cell_type": "code",
   "execution_count": null,
   "id": "2b33ebaf-3f58-4bd9-8d00-7d184c18d345",
   "metadata": {},
   "outputs": [],
   "source": [
    "plt.figure()\n",
    "plt.plot(x, C, \"r\")\n",
    "plt.xlabel(\"x\")\n",
    "plt.ylabel(\"C\")\n",
    "plt.title(\"Initial concentration profile\")"
   ]
  },
  {
   "cell_type": "markdown",
   "id": "f289e1cb-74ba-4a3c-ae2c-346ad775392d",
   "metadata": {},
   "source": [
    "Set up the start time of the model and the number of time steps.\n",
    "Calculate a stable time step for the model using a stability criterion."
   ]
  },
  {
   "cell_type": "code",
   "execution_count": null,
   "id": "8d5f3644-a60f-414b-bde3-a59aa7530af1",
   "metadata": {},
   "outputs": [],
   "source": [
    "time = 0\n",
    "nt = 5000 #number of time steps\n",
    "dt = 0.5 * (dx**2 / D) #time step equation itself, \"**\" is squared"
   ]
  },
  {
   "cell_type": "code",
   "execution_count": null,
   "id": "16f32de0-f762-4f92-a0ce-02c00107d643",
   "metadata": {},
   "outputs": [],
   "source": [
    "dt"
   ]
  },
  {
   "cell_type": "markdown",
   "id": "f1524035-4701-453e-8f29-cd857cd0cf31",
   "metadata": {},
   "source": [
    "Loop over the time steps of the model,\n",
    "solving the diffusion equation using the FTCS explicit scheme\n",
    "described above.\n",
    "The boundary conditions are fixed, so reset them at each time step."
   ]
  },
  {
   "cell_type": "code",
   "execution_count": null,
   "id": "c4f2f243-7f57-4420-9706-40b58af0b74f",
   "metadata": {},
   "outputs": [],
   "source": [
    "# for loop; t is loop counter, t is also purely for model ie. no relation to nt, \"t\" for time; \n",
    "# C is from discretized version of the diffusion equation *way* above, Concentration\n",
    "# D = dissfusivity; np.roll shifts model. 500, 500... 0, 0,... then 500 again\n",
    "for t in range(0, nt):\n",
    "    C += D * dt / dx**2 * (np.roll(C, -1) - 2*C + np.roll(C, 1))\n",
    "    C [0] = C_left\n",
    "    C[-1] = C_right"
   ]
  },
  {
   "cell_type": "markdown",
   "id": "66b1959d-403a-4aa4-9913-d4c02c429a02",
   "metadata": {},
   "source": [
    "Plot the result"
   ]
  },
  {
   "cell_type": "code",
   "execution_count": null,
   "id": "1a428fd0-45da-4510-9514-505da14aa113",
   "metadata": {},
   "outputs": [],
   "source": [
    "plt.figure()\n",
    "plt.plot(x, C, \"b\") #\"b\" is blue color\n",
    "plt.xlabel(\"X\")\n",
    "plt.ylabel(\"C\")\n",
    "plt.title(\"Final concentration profile\")"
   ]
  },
  {
   "cell_type": "code",
   "execution_count": null,
   "id": "cebcd973-b74d-46bc-bc1a-5df3ca110c0e",
   "metadata": {},
   "outputs": [],
   "source": [
    "#new array example to help visualize line 18\n",
    "z = np.arange(5)\n",
    "z"
   ]
  },
  {
   "cell_type": "code",
   "execution_count": null,
   "id": "fc8547bd-f4f9-4e76-8ebf-9449fe1ca410",
   "metadata": {},
   "outputs": [],
   "source": [
    "np.roll(z, -1)"
   ]
  },
  {
   "cell_type": "code",
   "execution_count": null,
   "id": "3b6033a1-97ea-46f4-b0a1-ecafeba66632",
   "metadata": {},
   "outputs": [],
   "source": [
    "np.roll(z, +1)"
   ]
  },
  {
   "cell_type": "code",
   "execution_count": null,
   "id": "eafb5fa2-1a0a-4980-8834-deb2a7d5e112",
   "metadata": {},
   "outputs": [],
   "source": [
    "z + 1"
   ]
  },
  {
   "cell_type": "code",
   "execution_count": null,
   "id": "be07698d-0984-4cef-9e3b-bd83ecfa724d",
   "metadata": {},
   "outputs": [],
   "source": [
    "#another example of array operation\n",
    "for i in range(len(z)):\n",
    "    print(z[i] + 1)"
   ]
  },
  {
   "cell_type": "code",
   "execution_count": null,
   "id": "1a404a7e-8ba6-4aa9-b49c-ef0cc5d54248",
   "metadata": {},
   "outputs": [],
   "source": []
  }
 ],
 "metadata": {
  "kernelspec": {
   "display_name": "CSDMS",
   "language": "python",
   "name": "csdms"
  },
  "language_info": {
   "codemirror_mode": {
    "name": "ipython",
    "version": 3
   },
   "file_extension": ".py",
   "mimetype": "text/x-python",
   "name": "python",
   "nbconvert_exporter": "python",
   "pygments_lexer": "ipython3",
   "version": "3.12.7"
  }
 },
 "nbformat": 4,
 "nbformat_minor": 5
}
